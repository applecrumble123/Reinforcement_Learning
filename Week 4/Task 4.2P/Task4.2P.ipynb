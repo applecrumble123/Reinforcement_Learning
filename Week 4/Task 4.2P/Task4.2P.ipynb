{
 "cells": [
  {
   "cell_type": "code",
   "execution_count": 1,
   "id": "confused-final",
   "metadata": {},
   "outputs": [],
   "source": [
    "import sys\n",
    "import gym\n",
    "import numpy as np\n",
    "import random\n",
    "from collections import defaultdict\n",
    "import matplotlib.pyplot as plt"
   ]
  },
  {
   "cell_type": "code",
   "execution_count": 2,
   "id": "southern-blocking",
   "metadata": {},
   "outputs": [],
   "source": [
    "env = gym.make('Blackjack-v0')"
   ]
  },
  {
   "cell_type": "code",
   "execution_count": 3,
   "id": "acceptable-christopher",
   "metadata": {},
   "outputs": [
    {
     "data": {
      "text/plain": [
       "Tuple(Discrete(32), Discrete(11), Discrete(2))"
      ]
     },
     "execution_count": 3,
     "metadata": {},
     "output_type": "execute_result"
    }
   ],
   "source": [
    "# (Agent's score , Dealer's visible score, and whether or not the agent has a usable ace)\n",
    "env.observation_space"
   ]
  },
  {
   "cell_type": "code",
   "execution_count": 4,
   "id": "common-palestine",
   "metadata": {},
   "outputs": [
    {
     "data": {
      "text/plain": [
       "2"
      ]
     },
     "execution_count": 4,
     "metadata": {},
     "output_type": "execute_result"
    }
   ],
   "source": [
    "# agent only has 2 options: Hit(1) or Stay(0).\n",
    "env.action_space.n"
   ]
  },
  {
   "cell_type": "code",
   "execution_count": 5,
   "id": "immune-blend",
   "metadata": {},
   "outputs": [
    {
     "name": "stdout",
     "output_type": "stream",
     "text": [
      "Player's Hand: 15, \n",
      "Dealer visible Hand: 10, \n",
      "Usable Ace: False\n"
     ]
    }
   ],
   "source": [
    "env.reset()\n",
    "print(\"Player's Hand: {}, \\nDealer visible Hand: {}, \\nUsable Ace: {}\".format(env.reset()[0], env.reset()[1], env.reset()[2]))"
   ]
  },
  {
   "cell_type": "code",
   "execution_count": 6,
   "id": "french-width",
   "metadata": {},
   "outputs": [
    {
     "data": {
      "text/plain": [
       "((19, 10, False), 0.0, False, {})"
      ]
     },
     "execution_count": 6,
     "metadata": {},
     "output_type": "execute_result"
    }
   ],
   "source": [
    "# Assuming hit - 1\n",
    "# winning is +1, drawing is 0, and losing is -1.\n",
    "env.step(1)"
   ]
  },
  {
   "cell_type": "code",
   "execution_count": 7,
   "id": "reverse-indonesia",
   "metadata": {},
   "outputs": [
    {
     "data": {
      "text/plain": [
       "((19, 10, False), 0.0, True, {})"
      ]
     },
     "execution_count": 7,
     "metadata": {},
     "output_type": "execute_result"
    }
   ],
   "source": [
    "# Assuming stay - 0\n",
    "# winning is +1, drawing is 0, and losing is -1.\n",
    "env.step(0)"
   ]
  },
  {
   "cell_type": "code",
   "execution_count": 8,
   "id": "rising-sheffield",
   "metadata": {},
   "outputs": [
    {
     "data": {
      "text/plain": [
       "[10, 2, 7]"
      ]
     },
     "execution_count": 8,
     "metadata": {},
     "output_type": "execute_result"
    }
   ],
   "source": [
    "# dealer's hand\n",
    "# Current Dealer strategy is to draw cards as long as he has a score of below 17\n",
    "env.dealer"
   ]
  },
  {
   "cell_type": "code",
   "execution_count": 9,
   "id": "alternate-pressure",
   "metadata": {},
   "outputs": [],
   "source": [
    "# testing a random policy for which draw the cards until player's hand is at least 17\n",
    "def draw_till_17_pol(obs):\n",
    "    \n",
    "    if obs[0] < 17:\n",
    "        \n",
    "        # if less than 17, draw another card\n",
    "        return [1, 0]\n",
    "    \n",
    "    else:\n",
    "        \n",
    "        # else stay\n",
    "        return [0, 1]\n",
    "    "
   ]
  },
  {
   "cell_type": "code",
   "execution_count": 10,
   "id": "olive-harris",
   "metadata": {},
   "outputs": [],
   "source": [
    "def calc_payoffs(rounds, pol):\n",
    "    \"\"\"\n",
    "    Calculate Payoffs.\n",
    "    \n",
    "    Args:\n",
    "        rounds: Number of rounds a player would play\n",
    "        players: Number of players \n",
    "        pol: Policy used\n",
    "        \n",
    "    Returns:\n",
    "        Average payoff\n",
    "    \"\"\"\n",
    "    \n",
    "        \n",
    "    \n",
    "    NUM_OF_ROUNDS = rounds\n",
    "    \n",
    "    NUM_ITER = 100\n",
    "    \n",
    "    \n",
    "    total_reward = 0 \n",
    "    \n",
    "    reward_list_per_round = []\n",
    "    \n",
    "    rds = 0\n",
    "    \n",
    "    while rds < NUM_OF_ROUNDS:\n",
    "        \n",
    "        for i in range(NUM_ITER):\n",
    "\n",
    "            reward_per_episode = 0\n",
    "\n",
    "            # get the best action using the random policy\n",
    "            action = np.argmax(pol(env._get_obs()))\n",
    "\n",
    "            obs, reward, done, _ = env.step(action)\n",
    "\n",
    "            reward_per_episode = reward_per_episode + reward\n",
    "\n",
    "            # if the game end, accumulate the reward and rest the env then continue to the next round\n",
    "            if done:\n",
    "                \n",
    "                total_reward = total_reward + reward_per_episode\n",
    "                \n",
    "                reward_list_per_round.append(reward_per_episode)\n",
    "\n",
    "                # Environment deals new cards to player and dealer\n",
    "                env.reset()\n",
    "                \n",
    "                break\n",
    "                \n",
    "        rds = rds + 1\n",
    "        \n",
    "    \n",
    "    reward_list_per_round_cumsum = np.cumsum(reward_list_per_round) \n",
    "\n",
    "    plt.plot(reward_list_per_round_cumsum)                \n",
    "    plt.xlabel('Number of rounds')\n",
    "    plt.ylabel('Rewards')\n",
    "    plt.title('Cumulative Rewards over {} rounds'.format(NUM_OF_ROUNDS))\n",
    "    plt.show()    \n",
    "    print (\"Average reward of a player after {} rounds is {}\".format(rounds, (total_reward/NUM_OF_ROUNDS) ))\n",
    "    print(\"Total rewards after {} rounds is {}\".format(NUM_OF_ROUNDS, total_reward))"
   ]
  },
  {
   "cell_type": "code",
   "execution_count": 11,
   "id": "adapted-tobago",
   "metadata": {},
   "outputs": [
    {
     "data": {
      "image/png": "[encoded data removed]",
      "text/plain": [
       "<Figure size 432x288 with 1 Axes>"
      ]
     },
     "metadata": {
      "needs_background": "light"
     },
     "output_type": "display_data"
    },
    {
     "name": "stdout",
     "output_type": "stream",
     "text": [
      "Average reward of a player after 1000 rounds is -0.626\n",
      "Total rewards after 1000 rounds is -626.0\n"
     ]
    }
   ],
   "source": [
    "env.reset()\n",
    "calc_payoffs(rounds = 1000, pol = draw_till_17_pol)"
   ]
  },
  {
   "cell_type": "code",
   "execution_count": 12,
   "id": "filled-transparency",
   "metadata": {},
   "outputs": [],
   "source": [
    "def create_random_policy(nA):\n",
    "    \"\"\"\n",
    "    Creates a random policy function.\n",
    "    \n",
    "    Args:\n",
    "        nA: Number of actions in the environment.\n",
    "    \n",
    "    Returns:\n",
    "        A function that takes an observation state as input and returns a vector\n",
    "        of action probabilities\n",
    "    \"\"\"\n",
    "    # an array of action probabilities\n",
    "    A = np.ones(nA, dtype=float) / nA\n",
    "    \n",
    "    # observation refers to the state\n",
    "    def policy_fn(observation):\n",
    "        return A\n",
    "    \n",
    "    return policy_fn"
   ]
  },
  {
   "cell_type": "code",
   "execution_count": 13,
   "id": "unable-sugar",
   "metadata": {},
   "outputs": [],
   "source": [
    "def create_greedy_action_policy(Q):\n",
    "    \"\"\" Create greedy action policy\n",
    "    Args:\n",
    "        env: Environment\n",
    "        Q: Q table\n",
    "    \n",
    "    Returns:\n",
    "        Greedy-action Policy function \n",
    "    \"\"\"\n",
    "    # observation refers to the state\n",
    "    def policy_fn(observation):\n",
    "       \n",
    "        action_value_list = Q[observation]\n",
    "        \n",
    "        # get the best action\n",
    "        best_action = np.argmax(action_value_list)\n",
    "        \n",
    "        \n",
    "        \n",
    "        \n",
    "        P = np.zeros((len(action_value_list)), dtype = float)\n",
    "       \n",
    "        \n",
    "        P[best_action] = 1.\n",
    "        \n",
    "        return P\n",
    "    \n",
    "    return policy_fn"
   ]
  },
  {
   "cell_type": "code",
   "execution_count": 14,
   "id": "personal-server",
   "metadata": {},
   "outputs": [],
   "source": [
    "def Off_policy_monte_carlos(num_of_episodes, policy, discount_factor):\n",
    "    \"\"\"\n",
    "    Monte Carlo Control Off-Policy Control using Weighted Importance Sampling.\n",
    "    Learn from experience, therefore, learn from the latest timestamp\n",
    "    Finds an optimal greedy policy.\n",
    "    \n",
    "    Args:\n",
    "       \n",
    "        num_episodes: Number of episodes to sample.\n",
    "        policy: The policy to follow while generating episodes.\n",
    "                A function that given an observation returns a vector of probabilities for each action.\n",
    "        discount_factor: Gamma discount factor.\n",
    "    \n",
    "    Returns:\n",
    "        A tuple (Q, policy).\n",
    "        Q is a dictionary mapping state -> action values.\n",
    "        policy is a function that takes an observation as an argument and returns action probabilities. \n",
    "        This is the optimal greedy policy.\n",
    "    \"\"\"\n",
    "    \n",
    "    # The final action-value function.\n",
    "    # A dictionary that maps state -> action values\n",
    "    # defaultdict never raises a KeyError. It provides a default value for the key that does not exists.\n",
    "    Q = defaultdict(lambda: np.zeros(env.action_space.n))\n",
    "    \n",
    "    \n",
    "    # The cumulative sum of the weights for a given state with respect to the number of n returns (across all episodes)\n",
    "    # store the state and action value in this dictionary to be used to \n",
    "    C = defaultdict(lambda: np.zeros(env.action_space.n))\n",
    "    \n",
    "    # Our greedy policy based on the Q values\n",
    "    target_policy = create_greedy_action_policy(Q)\n",
    "    \n",
    "    \n",
    "    # for a range of iterations\n",
    "    for episodes in range(1, num_of_episodes + 1):\n",
    "        if episodes % 10000 == 0:\n",
    "            print(\"\\rEpisode {}/{}.\".format(episodes, num_of_episodes), end=\"\")\n",
    "            #clear_output(wait=True)\n",
    "\n",
    "        # Generate an episode.\n",
    "        # An episode is an array of (state, action, reward) tuples\n",
    "        episode = []\n",
    "        state = env.reset()\n",
    "        \n",
    "        \n",
    "        # get multiple returns (100) for the same state\n",
    "        for t in range(100):\n",
    "            # Sample an action from our policy\n",
    "            # get the action value (probability of taking an action) from a state using the greedy policy\n",
    "            probs = target_policy(state)\n",
    "            \n",
    "            action = np.random.choice(np.arange(len(probs)), p=probs)\n",
    "            \n",
    "            next_state, reward, done, _ = env.step(action)\n",
    "            #print(next_state, reward, done)\n",
    "            episode.append((state, action, reward))\n",
    "            if done:\n",
    "                break\n",
    "            state = next_state\n",
    "        \n",
    "        \n",
    "        \"\"\"\n",
    "        Get the average of the observed returns to estimate the expected returns from that state.\n",
    "        More returns the agent observed from a state  = the sample average is closer to the true expected return, which is the state value.\n",
    "        Returns are only observed at the end of the episode.\n",
    "        \"\"\"\n",
    "        \n",
    "        # Sum of discounted returns\n",
    "        G = 0.0\n",
    "        \n",
    "        # The importance sampling ratio (the weights of the returns)\n",
    "        W = 1.0\n",
    "        \n",
    "        # For each step in the episode, backwards\n",
    "        for t in range(len(episode))[::-1]:\n",
    "            \n",
    "            # get the state, action, reward from a list of observations in an episode\n",
    "            state, action, reward = episode[t]\n",
    "            \n",
    "            \"\"\"\n",
    "            If the action taken by the policy is not the action taken by the target policy the \n",
    "            probability will be 0 and we can break\n",
    "            \"\"\"\n",
    "            \n",
    "            if action !=  np.argmax(target_policy(state)):\n",
    "                #print('break')\n",
    "                #print()\n",
    "                #print()\n",
    "                break\n",
    "                \n",
    "            else:\n",
    "            \n",
    "            \n",
    "                # Update the total reward since step t\n",
    "                G = discount_factor * G + reward\n",
    "\n",
    "                # Update weighted importance sampling formula denominator\n",
    "                # cumulative weight\n",
    "                #print(C)\n",
    "                #print(\"Before adding weights: \", C[state][action])\n",
    "                #print(\"Weights to be added: \", W)\n",
    "                C[state][action] = C[state][action] + W\n",
    "                #print(\"After adding weights: \",C[state][action])\n",
    "\n",
    "\n",
    "                # Update the action-value function using the incremental update formula \n",
    "                # This also improves our target policy which holds a reference to Q\n",
    "                Q[state][action] = Q[state][action] + (W / C[state][action]) * (G - Q[state][action])\n",
    "\n",
    "                \n",
    "\n",
    "\n",
    "                #print(\"Inital Weight: \", W)\n",
    "                #print(\"Behaviour policy: \", policy(state)[action])\n",
    "                W = W * 1./policy(state)[action]\n",
    "                #print(\"Updated Weight\", W)\n",
    "                #print()\n",
    "                #print()\n",
    "        \n",
    "    return Q, target_policy"
   ]
  },
  {
   "cell_type": "code",
   "execution_count": 15,
   "id": "processed-function",
   "metadata": {},
   "outputs": [
    {
     "name": "stdout",
     "output_type": "stream",
     "text": [
      "Episode 500000/500000."
     ]
    }
   ],
   "source": [
    "initialised_policy = create_random_policy(env.action_space.n)\n",
    "Q_off_Pol, off_MC_Learned_Policy = Off_policy_monte_carlos(num_of_episodes=500000, policy = initialised_policy, discount_factor = 0.9)"
   ]
  },
  {
   "cell_type": "code",
   "execution_count": 16,
   "id": "manufactured-bobby",
   "metadata": {},
   "outputs": [
    {
     "data": {
      "image/png": "[encoded data removed]",
      "text/plain": [
       "<Figure size 432x288 with 1 Axes>"
      ]
     },
     "metadata": {
      "needs_background": "light"
     },
     "output_type": "display_data"
    },
    {
     "name": "stdout",
     "output_type": "stream",
     "text": [
      "Average reward of a player after 1000 rounds is -0.077\n",
      "Total rewards after 1000 rounds is -77.0\n"
     ]
    }
   ],
   "source": [
    "env.reset()\n",
    "calc_payoffs(rounds = 1000, pol = off_MC_Learned_Policy)"
   ]
  },
  {
   "cell_type": "code",
   "execution_count": 17,
   "id": "developmental-destination",
   "metadata": {},
   "outputs": [],
   "source": [
    "def create_epsilon_greedy_action_policy(Q,epsilon):\n",
    "    \"\"\" Create epsilon greedy action policy\n",
    "    Args:\n",
    "        Q: Q table\n",
    "        epsilon: Probability of selecting random action instead of the 'optimal' action\n",
    "    \n",
    "    Returns:\n",
    "        Epsilon-greedy-action Policy function with Probabilities of each action for each state\n",
    "        \n",
    "        \n",
    "    The on-policy method uses ε-greedy policies, meaning that most of the time, it chooses an action \n",
    "    that has maximal estimated action value, but with probability ε, it nstead select an action at random.\n",
    "    \n",
    "    \"\"\"\n",
    "    def policy(obs):\n",
    "        #initiate with same prob for all actions\n",
    "        # all nongreedy actions are given the minimal probability of selection\n",
    "        P = np.ones(env.action_space.n, dtype=float) * epsilon / env.action_space.n \n",
    "        \n",
    "        #get best action\n",
    "        best_action = np.argmax(Q[obs])  \n",
    "        \n",
    "        # probability of the greedy action\n",
    "        P[best_action] = P[best_action] + (1.0 - epsilon)\n",
    "        return P\n",
    "    return policy"
   ]
  },
  {
   "cell_type": "code",
   "execution_count": 18,
   "id": "wrong-bankruptcy",
   "metadata": {},
   "outputs": [],
   "source": [
    "def On_policy_monte_carlos(episodes, discount_factor, epsilon):\n",
    "    \"\"\"\n",
    "    Monte Carlo Control using Epsilon-Greedy policies.\n",
    "    Finds an optimal epsilon-greedy policy.\n",
    "    \n",
    "    Args:\n",
    "        \n",
    "        episodes: Number of episodes to sample.\n",
    "        discount_factor: Gamma discount factor.\n",
    "        epsilon: Chance the sample a random action. Float betwen 0 and 1.\n",
    "    \n",
    "    Returns:\n",
    "        A tuple (Q, policy).\n",
    "        Q is a dictionary mapping state to action values.\n",
    "        Policy is the trained policy that returns action probabilities\n",
    "    \"\"\"\n",
    "    # Keeps track of sum and count of returns for each state\n",
    "    # defaultdict used so that the default value is stated if the observation(key) is not found\n",
    "    returns_sum = defaultdict(float)\n",
    "    returns_count = defaultdict(float)\n",
    "    \n",
    "    # The final action-value function.\n",
    "    # A nested dictionary that maps state -> (action -> action-value).\n",
    "    Q = defaultdict(lambda: np.zeros(env.action_space.n))\n",
    "    \n",
    "    # The policy we're following\n",
    "    pol = create_epsilon_greedy_action_policy(Q,epsilon)\n",
    "    \n",
    "    for i in range(1, episodes + 1):\n",
    "        # Print out which episode we're on\n",
    "        if i% 10000 == 0:\n",
    "            print(\"\\rEpisode {}/{}.\".format(i, episodes), end=\"\")\n",
    "\n",
    "        # Generate an episode.\n",
    "        # An episode is an array of (state, action, reward) tuples\n",
    "        episode = []\n",
    "        state = env.reset()\n",
    "        for t in range(100):\n",
    "            probs = pol(state)\n",
    "            action = np.random.choice(np.arange(len(probs)), p=probs)\n",
    "            next_state, reward, done, _ = env.step(action)\n",
    "            episode.append((state, action, reward))\n",
    "            if done:\n",
    "                break\n",
    "            state = next_state\n",
    "\n",
    "        # Find all (state, action) pairs we've visited in this episode\n",
    "        # We convert each state to a tuple so that we can use it as a dict key\n",
    "        sa_in_episode = set([(tuple(x[0]), x[1]) for x in episode])\n",
    "        \n",
    "        for state, action in sa_in_episode:\n",
    "            sa_pair = (state, action)\n",
    "           \n",
    "            #First Visit MC:\n",
    "            # Find the first occurance of the (state, action) pair in the episode\n",
    "    \n",
    "            first_occurence_idx = next(i for i,x in enumerate(episode)\n",
    "                                       if x[0] == state and x[1] == action)\n",
    "\n",
    "            \n",
    "            # Sum up all rewards since the first occurance\n",
    "            '''\n",
    "            This discounts array is the amount by which we wanna discount each consequent reward ie.\n",
    "            discounts = [1,gamma, gamma^2, gamma^3.....] \n",
    "            then we compute the total return Gt= Rt+1 *1 + Rt+2 * gamma + Rt+3 * gamma^2 +...\n",
    "            '''\n",
    "            G = sum([x[2]*(discount_factor**i) for i,x in enumerate(episode[first_occurence_idx:])])\n",
    "            \n",
    "            # Calculate average return for this state over all sampled episodes\n",
    "            returns_sum[sa_pair] = returns_sum[sa_pair] + G\n",
    "            returns_count[sa_pair] = returns_count[sa_pair] + 1.0\n",
    "            Q[state][action] = returns_sum[sa_pair] / returns_count[sa_pair]\n",
    "    \n",
    "    return Q, pol"
   ]
  },
  {
   "cell_type": "code",
   "execution_count": 19,
   "id": "informational-contribution",
   "metadata": {},
   "outputs": [
    {
     "name": "stdout",
     "output_type": "stream",
     "text": [
      "Episode 500000/500000."
     ]
    }
   ],
   "source": [
    "Q_on_pol, On_MC_Learned_Policy = On_policy_monte_carlos(episodes = 500000, discount_factor = 0.9, epsilon = 0.05)"
   ]
  },
  {
   "cell_type": "code",
   "execution_count": 20,
   "id": "breathing-kenya",
   "metadata": {},
   "outputs": [
    {
     "data": {
      "image/png": "[encoded data removed]",
      "text/plain": [
       "<Figure size 432x288 with 1 Axes>"
      ]
     },
     "metadata": {
      "needs_background": "light"
     },
     "output_type": "display_data"
    },
    {
     "name": "stdout",
     "output_type": "stream",
     "text": [
      "Average reward of a player after 1000 rounds is -0.043\n",
      "Total rewards after 1000 rounds is -43.0\n"
     ]
    }
   ],
   "source": [
    "env.reset()\n",
    "calc_payoffs(rounds = 1000, pol = On_MC_Learned_Policy)"
   ]
  }
 ],
 "metadata": {
  "kernelspec": {
   "display_name": "Python 3",
   "language": "python",
   "name": "python3"
  },
  "language_info": {
   "codemirror_mode": {
    "name": "ipython",
    "version": 3
   },
   "file_extension": ".py",
   "mimetype": "text/x-python",
   "name": "python",
   "nbconvert_exporter": "python",
   "pygments_lexer": "ipython3",
   "version": "3.8.8"
  }
 },
 "nbformat": 4,
 "nbformat_minor": 5
}
