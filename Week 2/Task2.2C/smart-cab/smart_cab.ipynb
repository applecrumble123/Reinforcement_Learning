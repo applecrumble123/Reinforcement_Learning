{
 "cells": [
  {
   "cell_type": "code",
   "execution_count": 1,
   "metadata": {},
   "outputs": [
    {
     "name": "stdout",
     "output_type": "stream",
     "text": [
      "+-------------------+\n",
      "| :A| : :B: : | :\u001b[35mC\u001b[0m| |\n",
      "| : | : | : | : | : |\n",
      "| : | : | : | : | : |\n",
      "| : : : | : : : : : |\n",
      "| : | : : : | : | : |\n",
      "| : | : | : | : | : |\n",
      "| : | : : : |\u001b[41m \u001b[0m: | : |\n",
      "| | : : | : : | : : |\n",
      "| :\u001b[34;1mD\u001b[0m| : :E: : : |F| |\n",
      "| | : : | : | | : : |\n",
      "+-------------------+\n",
      "\n"
     ]
    }
   ],
   "source": [
    "import gym\n",
    "import numpy as np\n",
    "\n",
    "# core gym interface is env\n",
    "env = gym.make('smart_cab:smart_cab-v1')\n",
    "\n",
    "env.render()"
   ]
  },
  {
   "cell_type": "code",
   "execution_count": 2,
   "metadata": {},
   "outputs": [
    {
     "data": {
      "text/plain": [
       "{0: [(1.0, 851, -1, False)],\n",
       " 1: [(1.0, 11, -1, False)],\n",
       " 2: [(1.0, 473, -1, False)],\n",
       " 3: [(1.0, 431, -1, False)],\n",
       " 4: [(1.0, 431, -3, False)],\n",
       " 5: [(1.0, 431, -1, False)]}"
      ]
     },
     "execution_count": 2,
     "metadata": {},
     "output_type": "execute_result"
    }
   ],
   "source": [
    "env.P[431]"
   ]
  },
  {
   "cell_type": "code",
   "execution_count": 3,
   "metadata": {},
   "outputs": [
    {
     "name": "stdout",
     "output_type": "stream",
     "text": [
      "CPU times: user 9 µs, sys: 0 ns, total: 9 µs\n",
      "Wall time: 11 µs\n"
     ]
    }
   ],
   "source": [
    "%%time\n",
    "\"\"\"Training the agent\"\"\"\n",
    "\n",
    "import random\n",
    "from IPython.display import clear_output\n",
    "\n",
    "def q_learning(discount_factor, exploration_proba):\n",
    "    \n",
    "    # initialise Q-table with zeros\n",
    "    \n",
    "    q_table = np.zeros([env.observation_space.n, env.action_space.n])\n",
    "    \n",
    "    total_epochs, total_penalties, total_rewards = 0, 0, 0\n",
    "    \n",
    "    # Hyperparameters\n",
    "    \n",
    "    # there are 6 actions\n",
    "    learning_rate = 1/6\n",
    "    \n",
    "    # discount factor\n",
    "    gamma = discount_factor\n",
    "    \n",
    "    exploration_proba = exploration_proba\n",
    "    \n",
    "    episodes = 1000\n",
    "    \n",
    "    # Maximum of iteration per episode\n",
    "    #max_iter_episode = 5000\n",
    "    \n",
    "    rewards_per_episode = []\n",
    "\n",
    "\n",
    "    for i in range(episodes):\n",
    "        state = env.reset()\n",
    "\n",
    "        # Sum the rewards that the agent gets from the environment\n",
    "        epochs, penalties, rewards = 0, 0, 0\n",
    "        done = False\n",
    "\n",
    "        while not done:\n",
    "            \n",
    "            if random.uniform(0, 1) < exploration_proba:\n",
    "                action = env.action_space.sample() # Explore action space\n",
    "            else:\n",
    "                action = np.argmax(q_table[state]) # Exploit learned values\n",
    "\n",
    "            next_state, reward, done, info = env.step(action) \n",
    "\n",
    "            current_value = q_table[state, action]\n",
    "            next_max = np.max(q_table[next_state])\n",
    "\n",
    "            new_value = (1 - learning_rate) * current_value + learning_rate * (reward + gamma * next_max)\n",
    "            q_table[state, action] = new_value\n",
    "            \n",
    "            if reward == -5 or reward == -3:\n",
    "                penalties += 1\n",
    "            \n",
    "            rewards = rewards + reward\n",
    "\n",
    "            #total_episode_reward = total_episode_reward + reward\n",
    "            \n",
    "            state = next_state\n",
    "            epochs += 1\n",
    "           \n",
    "        \n",
    "        total_penalties += penalties\n",
    "        total_epochs += epochs\n",
    "        total_rewards += rewards\n",
    "        \n",
    "    \n",
    "    print(f\"Results after {episodes} episodes:\")\n",
    "    print(f\"Average timesteps per episode: {total_epochs / episodes}\")\n",
    "    print(f\"Average penalties per episode: {total_penalties / episodes}\")\n",
    "    print(f\"Average rewards per episode: {total_rewards / episodes}\")\n",
    "            \n",
    "\n",
    "        \n",
    "\n",
    "    "
   ]
  },
  {
   "cell_type": "code",
   "execution_count": 4,
   "metadata": {},
   "outputs": [
    {
     "name": "stdout",
     "output_type": "stream",
     "text": [
      "Results after 1000 episodes:\n",
      "Average timesteps per episode: 314.508\n",
      "Average penalties per episode: 15.191\n",
      "Average rewards per episode: -335.01\n",
      "\n",
      "Results after 1000 episodes:\n",
      "Average timesteps per episode: 334.576\n",
      "Average penalties per episode: 22.841\n",
      "Average rewards per episode: -371.272\n",
      "\n",
      "Results after 1000 episodes:\n",
      "Average timesteps per episode: 374.343\n",
      "Average penalties per episode: 35.611\n",
      "Average rewards per episode: -437.911\n",
      "\n",
      "Results after 1000 episodes:\n",
      "Average timesteps per episode: 446.038\n",
      "Average penalties per episode: 55.04\n",
      "Average rewards per episode: -550.336\n"
     ]
    }
   ],
   "source": [
    "q_learning(discount_factor = 0.5, exploration_proba = 0.1)\n",
    "print()\n",
    "\n",
    "q_learning(discount_factor = 0.5, exploration_proba = 0.3)\n",
    "print()\n",
    "\n",
    "q_learning(discount_factor = 0.5, exploration_proba = 0.5)\n",
    "print()\n",
    "\n",
    "q_learning(discount_factor = 0.5, exploration_proba = 0.7)\n"
   ]
  },
  {
   "cell_type": "code",
   "execution_count": 5,
   "metadata": {},
   "outputs": [
    {
     "name": "stdout",
     "output_type": "stream",
     "text": [
      "Results after 1000 episodes:\n",
      "Average timesteps per episode: 558.875\n",
      "Average penalties per episode: 17.945\n",
      "Average rewards per episode: -585.155\n",
      "\n",
      "Results after 1000 episodes:\n",
      "Average timesteps per episode: 399.479\n",
      "Average penalties per episode: 15.635\n",
      "Average rewards per episode: -420.889\n",
      "\n",
      "Results after 1000 episodes:\n",
      "Average timesteps per episode: 314.776\n",
      "Average penalties per episode: 15.26\n",
      "Average rewards per episode: -335.398\n",
      "\n",
      "Results after 1000 episodes:\n",
      "Average timesteps per episode: 268.985\n",
      "Average penalties per episode: 15.454\n",
      "Average rewards per episode: -290.013\n",
      "\n"
     ]
    }
   ],
   "source": [
    "q_learning(discount_factor = 0.1, exploration_proba = 0.1)\n",
    "print()\n",
    "\n",
    "q_learning(discount_factor = 0.3, exploration_proba = 0.1)\n",
    "print()\n",
    "\n",
    "q_learning(discount_factor = 0.5, exploration_proba = 0.1)\n",
    "print()\n",
    "\n",
    "q_learning(discount_factor = 0.7, exploration_proba = 0.1)\n",
    "print()\n"
   ]
  },
  {
   "cell_type": "markdown",
   "metadata": {},
   "source": [
    "# Realistic Initialisation"
   ]
  },
  {
   "cell_type": "code",
   "execution_count": 6,
   "metadata": {},
   "outputs": [
    {
     "name": "stdout",
     "output_type": "stream",
     "text": [
      "Results after 1000 episodes:\n",
      "Average timesteps per episode: 275.069\n",
      "Average penalties per episode: 15.74\n",
      "Average rewards per episode: -296.663\n"
     ]
    }
   ],
   "source": [
    "# each row --> state\n",
    "# each col --> action\n",
    "q_table_real = np.zeros([env.observation_space.n, env.action_space.n])\n",
    "\n",
    "\n",
    "total_epochs, total_penalties, total_rewards = 0, 0, 0\n",
    "\n",
    "# Hyperparameters\n",
    "\n",
    "# there are 6 actions\n",
    "learning_rate = 1/6\n",
    "\n",
    "# discount factor\n",
    "gamma = 0.7\n",
    "\n",
    "exploration_proba = 0.1\n",
    "\n",
    "episodes = 1000\n",
    "\n",
    "\n",
    "episode_list_real = []\n",
    "ep_reward_real = []\n",
    "epoch_list_real = []\n",
    "\n",
    "\n",
    "\n",
    "for i in range(episodes):\n",
    "    \n",
    "    episode_list_real.append(i)\n",
    "    \n",
    "    state = env.reset()\n",
    "\n",
    "    # Sum the rewards that the agent gets from the environment\n",
    "    epochs, penalties, rewards = 0, 0, 0\n",
    "    done = False\n",
    "\n",
    "    while not done:\n",
    "\n",
    "        if random.uniform(0, 1) < exploration_proba:\n",
    "            action = env.action_space.sample() # Explore action space\n",
    "        else:\n",
    "            action = np.argmax(q_table_real[state]) # Exploit learned values\n",
    "        \n",
    "        \n",
    "\n",
    "        next_state, reward, done, info = env.step(action) \n",
    "        \n",
    "\n",
    "        current_value = q_table_real[state, action]\n",
    "        next_max = np.max(q_table_real[next_state])\n",
    "\n",
    "        new_value = (1 - learning_rate) * current_value + learning_rate * (reward + gamma * next_max)\n",
    "        q_table_real[state, action] = new_value\n",
    "\n",
    "        if reward == -5 or reward == -3:\n",
    "            penalties += 1\n",
    "        \n",
    "        rewards = rewards + reward\n",
    "\n",
    "        state = next_state\n",
    "        \n",
    "        \n",
    "        epochs += 1\n",
    "    \n",
    "    \n",
    "        \n",
    "        \n",
    "    ep_reward_real.append(rewards)\n",
    "    epoch_list_real.append(epochs)\n",
    " \n",
    "\n",
    "    total_penalties += penalties\n",
    "    total_epochs += epochs\n",
    "    total_rewards += rewards\n",
    "\n",
    "\n",
    "\n",
    "#print(episode_list_real)\n",
    "#print(ep_reward_real)\n",
    "print(f\"Results after {episodes} episodes:\")\n",
    "print(f\"Average timesteps per episode: {total_epochs / episodes}\")\n",
    "print(f\"Average penalties per episode: {total_penalties / episodes}\")\n",
    "print(f\"Average rewards per episode: {total_rewards / episodes}\")\n"
   ]
  },
  {
   "cell_type": "markdown",
   "metadata": {},
   "source": [
    "# Using the realistic initialisation to find the optimistic Q-values for each action"
   ]
  },
  {
   "cell_type": "code",
   "execution_count": 7,
   "metadata": {},
   "outputs": [
    {
     "name": "stdout",
     "output_type": "stream",
     "text": [
      "Mean value for each action: [-1.38337561 -1.36005791 -1.36137719 -1.37742652 -1.60532722 -1.33481749] \n",
      "\n",
      "Initialised values for each action: [-0.88337561 -0.86005791 -0.86137719 -0.87742652 -1.10532722 -0.83481749]\n"
     ]
    }
   ],
   "source": [
    "\n",
    "# take the mean value for each action, axis 0 means col\n",
    "mean_each_actions = q_table_real.mean(axis=0)\n",
    "print(\"Mean value for each action: {}\".format(mean_each_actions), '\\n')\n",
    "\n",
    "# initialise the q-value for each action above the mean\n",
    "initialised_values = mean_each_actions + 0.5\n",
    "print(\"Initialised values for each action: {}\".format(initialised_values))\n",
    "\n",
    "\n"
   ]
  },
  {
   "cell_type": "markdown",
   "metadata": {},
   "source": [
    "# Optimistic Initialisation"
   ]
  },
  {
   "cell_type": "code",
   "execution_count": 8,
   "metadata": {},
   "outputs": [
    {
     "name": "stdout",
     "output_type": "stream",
     "text": [
      "Results after 1000 episodes:\n",
      "Average timesteps per episode: 256.954\n",
      "Average penalties per episode: 9.548\n",
      "Average reward per episode: -265.856\n"
     ]
    }
   ],
   "source": [
    "\n",
    "q_table_op = np.zeros([env.observation_space.n, env.action_space.n])\n",
    "\n",
    "q_table_op = q_table_op + initialised_values\n",
    "\n",
    "\n",
    "\n",
    "total_epochs, total_penalties, total_rewards = 0, 0, 0\n",
    "\n",
    "# Hyperparameters\n",
    "\n",
    "# there are 6 actions\n",
    "learning_rate = 1/6\n",
    "\n",
    "# discount factor\n",
    "gamma = 0.7\n",
    "\n",
    "exploration_proba = 0.1\n",
    "\n",
    "episodes = 1000\n",
    "\n",
    "\n",
    "episode_list_op = []\n",
    "ep_reward_op = []\n",
    "epoch_list_op = []\n",
    "\n",
    "\n",
    "for i in range(episodes):\n",
    "    \n",
    "    episode_list_op.append(i)\n",
    "    \n",
    "    state = env.reset()\n",
    "\n",
    "    # Sum the rewards that the agent gets from the environment\n",
    "    epochs, penalties, rewards = 0, 0, 0\n",
    "    done = False\n",
    "\n",
    "    while not done:\n",
    "\n",
    "        action = np.argmax(q_table_op[state]) # Exploit learned values\n",
    "\n",
    "        next_state, reward, done, info = env.step(action) \n",
    "        \n",
    "\n",
    "        current_value = q_table_op[state, action]\n",
    "        next_max = np.max(q_table_op[next_state])\n",
    "\n",
    "        new_value = (1 - learning_rate) * current_value + learning_rate * (reward + gamma * next_max)\n",
    "        q_table_op[state, action] = new_value\n",
    "\n",
    "        if reward == -5 or reward == -3:\n",
    "            penalties += 1\n",
    "        \n",
    "        rewards = rewards + reward\n",
    "\n",
    "        state = next_state\n",
    "        \n",
    "        \n",
    "        epochs += 1\n",
    "        \n",
    "        \n",
    "    ep_reward_op.append(rewards)\n",
    "    epoch_list_op.append(epochs)\n",
    "    \n",
    "\n",
    "    total_penalties += penalties\n",
    "    total_epochs += epochs\n",
    "    total_rewards += rewards\n",
    "\n",
    "\n",
    "print(f\"Results after {episodes} episodes:\")\n",
    "print(f\"Average timesteps per episode: {total_epochs / episodes}\")\n",
    "print(f\"Average penalties per episode: {total_penalties / episodes}\")\n",
    "print(f\"Average reward per episode: {total_rewards / episodes}\")\n",
    "\n"
   ]
  }
 ],
 "metadata": {
  "kernelspec": {
   "display_name": "Python 3",
   "language": "python",
   "name": "python3"
  },
  "language_info": {
   "codemirror_mode": {
    "name": "ipython",
    "version": 3
   },
   "file_extension": ".py",
   "mimetype": "text/x-python",
   "name": "python",
   "nbconvert_exporter": "python",
   "pygments_lexer": "ipython3",
   "version": "3.8.8"
  }
 },
 "nbformat": 4,
 "nbformat_minor": 4
}
