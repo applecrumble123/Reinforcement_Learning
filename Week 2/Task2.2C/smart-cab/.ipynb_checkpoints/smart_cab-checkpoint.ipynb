{
 "cells": [
  {
   "cell_type": "code",
   "execution_count": 1,
   "metadata": {},
   "outputs": [
    {
     "name": "stdout",
     "output_type": "stream",
     "text": [
      "+-------------------+\n",
      "| :A| : :B: : | :C| |\n",
      "| : | : | : | : | : |\n",
      "| : | : | : | : | : |\n",
      "| : : : | : : : : : |\n",
      "| : | : : : | : | : |\n",
      "| : | :\u001b[41m \u001b[0m| : | : | : |\n",
      "| : | : : : | : | : |\n",
      "| | : : | : : | : : |\n",
      "| :\u001b[35mD\u001b[0m| : :E: : : |\u001b[34;1mF\u001b[0m| |\n",
      "| | : : | : | | : : |\n",
      "+-------------------+\n",
      "\n"
     ]
    }
   ],
   "source": [
    "import gym\n",
    "\n",
    "# core gym interface is env\n",
    "env = gym.make('smart_cab:smart_cab-v1')\n",
    "\n",
    "env.render()"
   ]
  },
  {
   "cell_type": "code",
   "execution_count": 3,
   "metadata": {},
   "outputs": [
    {
     "data": {
      "text/plain": [
       "{0: [(1.0, 851, -1, False)],\n",
       " 1: [(1.0, 11, -1, False)],\n",
       " 2: [(1.0, 473, -1, False)],\n",
       " 3: [(1.0, 431, -1, False)],\n",
       " 4: [(1.0, 431, -3, False)],\n",
       " 5: [(1.0, 431, -1, False)]}"
      ]
     },
     "execution_count": 3,
     "metadata": {},
     "output_type": "execute_result"
    }
   ],
   "source": [
    "env.P[431]"
   ]
  },
  {
   "cell_type": "code",
   "execution_count": 4,
   "metadata": {},
   "outputs": [
    {
     "name": "stdout",
     "output_type": "stream",
     "text": [
      "[[0. 0. 0. 0. 0. 0.]\n",
      " [0. 0. 0. 0. 0. 0.]\n",
      " [0. 0. 0. 0. 0. 0.]\n",
      " ...\n",
      " [0. 0. 0. 0. 0. 0.]\n",
      " [0. 0. 0. 0. 0. 0.]\n",
      " [0. 0. 0. 0. 0. 0.]]\n"
     ]
    }
   ],
   "source": [
    "# initialise Q-table with zeros\n",
    "\n",
    "import numpy as np\n",
    "\n",
    "# each row --> state\n",
    "# each col --> action\n",
    "q_table = np.zeros([env.observation_space.n, env.action_space.n])\n",
    "\n",
    "print(q_table)\n",
    "\n"
   ]
  },
  {
   "cell_type": "code",
   "execution_count": 10,
   "metadata": {},
   "outputs": [
    {
     "name": "stdout",
     "output_type": "stream",
     "text": [
      "Episode: 200000\n",
      "Training finished.\n",
      "\n",
      "CPU times: user 1min 6s, sys: 244 ms, total: 1min 7s\n",
      "Wall time: 1min 7s\n"
     ]
    }
   ],
   "source": [
    "%%time\n",
    "\"\"\"Training the agent\"\"\"\n",
    "\n",
    "import random\n",
    "from IPython.display import clear_output\n",
    "\n",
    "def q_learning(lr, epsilon):\n",
    "    \n",
    "    # Hyperparameters\n",
    "    \n",
    "    # there are 6 actions\n",
    "    learning_rate = lr\n",
    "    \n",
    "    # discount factor\n",
    "    gamma = 0.6\n",
    "    \n",
    "    exploration_proba = epsilon\n",
    "    \n",
    "    episodes = 20\n",
    "    \n",
    "    # Maximum of iteration per episode\n",
    "    max_iter_episode = 500\n",
    "    \n",
    "    rewards_per_episode = []\n",
    "\n",
    "\n",
    "    for i in range(episodes):\n",
    "        state = env.reset()\n",
    "\n",
    "        # Sum the rewards that the agent gets from the environment\n",
    "        total_episode_reward = 0\n",
    "        done = False\n",
    "\n",
    "        for i in range(max_iter_episode):\n",
    "            if random.uniform(0, 1) < exploration_proba:\n",
    "                action = env.action_space.sample() # Explore action space\n",
    "            else:\n",
    "                action = np.argmax(q_table[state]) # Exploit learned values\n",
    "\n",
    "            next_state, reward, done, info = env.step(action) \n",
    "\n",
    "            current_value = q_table[state, action]\n",
    "            next_max = np.max(q_table[next_state])\n",
    "\n",
    "            new_value = (1 - learning_rate) * current_value + learning_rate * (reward + gamma * next_max)\n",
    "            q_table[state, action] = new_value\n",
    "\n",
    "            total_episode_reward = total_episode_reward + reward\n",
    "            # If the episode is finished, we leave the for loop\n",
    "            if done:\n",
    "                break\n",
    "            \n",
    "            state = next_state\n",
    "    \n",
    "    #Show the total episode reward        \n",
    "    print(\"Total episode reward:\", total_episode_reward)\n",
    "    \n",
    "    #Reset enviroment for next episode\n",
    "    current_state = env.reset()\n",
    "    \n",
    "    rewards_per_episode.append(total_episode_reward)\n",
    "            \n",
    "\n",
    "        \n",
    "\n",
    "    "
   ]
  }
 ],
 "metadata": {
  "kernelspec": {
   "display_name": "Python 3",
   "language": "python",
   "name": "python3"
  },
  "language_info": {
   "codemirror_mode": {
    "name": "ipython",
    "version": 3
   },
   "file_extension": ".py",
   "mimetype": "text/x-python",
   "name": "python",
   "nbconvert_exporter": "python",
   "pygments_lexer": "ipython3",
   "version": "3.8.8"
  }
 },
 "nbformat": 4,
 "nbformat_minor": 4
}
