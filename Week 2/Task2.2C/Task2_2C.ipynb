{
 "cells": [
  {
   "cell_type": "code",
   "execution_count": 1,
   "metadata": {
    "colab": {
     "base_uri": "https://localhost:8080/"
    },
    "id": "P1bI1B1QsBKJ",
    "outputId": "c7ad2ad2-db82-4843-9dee-97b56d2f26af"
   },
   "outputs": [
    {
     "name": "stdout",
     "output_type": "stream",
     "text": [
      "Reading package lists... Done\n",
      "Building dependency tree       \n",
      "Reading state information... Done\n",
      "x11-utils is already the newest version (7.7+3build1).\n",
      "xvfb is already the newest version (2:1.19.6-1ubuntu4.8).\n",
      "0 upgraded, 0 newly installed, 0 to remove and 30 not upgraded.\n",
      "Requirement already satisfied: PyOpenGL==3.1.* in /usr/local/lib/python3.7/dist-packages (3.1.5)\n",
      "Requirement already satisfied: PyOpenGL-accelerate==3.1.* in /usr/local/lib/python3.7/dist-packages (3.1.5)\n",
      "Requirement already satisfied: gym[box2d]==0.17.* in /usr/local/lib/python3.7/dist-packages (0.17.2)\n",
      "Requirement already satisfied: pyglet<=1.5.0,>=1.4.0 in /usr/local/lib/python3.7/dist-packages (from gym[box2d]==0.17.*) (1.5.0)\n",
      "Requirement already satisfied: cloudpickle<1.4.0,>=1.2.0 in /usr/local/lib/python3.7/dist-packages (from gym[box2d]==0.17.*) (1.3.0)\n",
      "Requirement already satisfied: scipy in /usr/local/lib/python3.7/dist-packages (from gym[box2d]==0.17.*) (1.4.1)\n",
      "Requirement already satisfied: numpy>=1.10.4 in /usr/local/lib/python3.7/dist-packages (from gym[box2d]==0.17.*) (1.18.5)\n",
      "Requirement already satisfied: box2d-py~=2.3.5; extra == \"box2d\" in /usr/local/lib/python3.7/dist-packages (from gym[box2d]==0.17.*) (2.3.8)\n",
      "Requirement already satisfied: future in /usr/local/lib/python3.7/dist-packages (from pyglet<=1.5.0,>=1.4.0->gym[box2d]==0.17.*) (0.16.0)\n",
      "Requirement already satisfied: pyglet in /usr/local/lib/python3.7/dist-packages (1.5.0)\n",
      "Requirement already satisfied: future in /usr/local/lib/python3.7/dist-packages (from pyglet) (0.16.0)\n",
      "Requirement already satisfied: ffmpeg in /usr/local/lib/python3.7/dist-packages (1.4)\n",
      "Requirement already satisfied: pyvirtualdisplay in /usr/local/lib/python3.7/dist-packages (2.1)\n",
      "Requirement already satisfied: EasyProcess in /usr/local/lib/python3.7/dist-packages (from pyvirtualdisplay) (0.3)\n",
      "Requirement already satisfied: Image in /usr/local/lib/python3.7/dist-packages (1.5.33)\n",
      "Requirement already satisfied: pillow in /usr/local/lib/python3.7/dist-packages (from Image) (7.0.0)\n",
      "Requirement already satisfied: django in /usr/local/lib/python3.7/dist-packages (from Image) (3.1.7)\n",
      "Requirement already satisfied: six in /usr/local/lib/python3.7/dist-packages (from Image) (1.15.0)\n",
      "Requirement already satisfied: sqlparse>=0.2.2 in /usr/local/lib/python3.7/dist-packages (from django->Image) (0.4.1)\n",
      "Requirement already satisfied: asgiref<4,>=3.2.10 in /usr/local/lib/python3.7/dist-packages (from django->Image) (3.3.1)\n",
      "Requirement already satisfied: pytz in /usr/local/lib/python3.7/dist-packages (from django->Image) (2018.9)\n",
      "Requirement already satisfied: gym-maze-trustycoder83 in /usr/local/lib/python3.7/dist-packages (0.0.4)\n",
      "Requirement already satisfied: pygame==1.9.6 in /usr/local/lib/python3.7/dist-packages (from gym-maze-trustycoder83) (1.9.6)\n",
      "Requirement already satisfied: numpy==1.18.5 in /usr/local/lib/python3.7/dist-packages (from gym-maze-trustycoder83) (1.18.5)\n",
      "Requirement already satisfied: gym==0.17.2 in /usr/local/lib/python3.7/dist-packages (from gym-maze-trustycoder83) (0.17.2)\n",
      "Requirement already satisfied: pyglet<=1.5.0,>=1.4.0 in /usr/local/lib/python3.7/dist-packages (from gym==0.17.2->gym-maze-trustycoder83) (1.5.0)\n",
      "Requirement already satisfied: scipy in /usr/local/lib/python3.7/dist-packages (from gym==0.17.2->gym-maze-trustycoder83) (1.4.1)\n",
      "Requirement already satisfied: cloudpickle<1.4.0,>=1.2.0 in /usr/local/lib/python3.7/dist-packages (from gym==0.17.2->gym-maze-trustycoder83) (1.3.0)\n",
      "Requirement already satisfied: future in /usr/local/lib/python3.7/dist-packages (from pyglet<=1.5.0,>=1.4.0->gym==0.17.2->gym-maze-trustycoder83) (0.16.0)\n"
     ]
    }
   ],
   "source": [
    "# install required system dependencies\n",
    "!apt-get install -y xvfb x11-utils  \n",
    "!apt-get install x11-utils > /dev/null 2>&1\n",
    "!pip install PyOpenGL==3.1.* \\\n",
    "            PyOpenGL-accelerate==3.1.* \\\n",
    "            gym[box2d]==0.17.* \n",
    "!pip install pyglet\n",
    "!pip install ffmpeg\n",
    "! pip install pyvirtualdisplay\n",
    "!pip install Image\n",
    "!pip install gym-maze-trustycoder83"
   ]
  },
  {
   "cell_type": "markdown",
   "metadata": {
    "id": "ZzW6zNkTsLWn"
   },
   "source": [
    "If the directory vid exists and has videos left over from previous tries, its better to clean it up before continuing.\n"
   ]
  },
  {
   "cell_type": "code",
   "execution_count": 2,
   "metadata": {
    "colab": {
     "base_uri": "https://localhost:8080/"
    },
    "id": "pVzNeQL8sSot",
    "outputId": "5ad34cac-84f3-486b-e55c-8c2d9afb1a83"
   },
   "outputs": [
    {
     "name": "stdout",
     "output_type": "stream",
     "text": [
      "mkdir: cannot create directory ‘./vid’: File exists\n"
     ]
    }
   ],
   "source": [
    "!mkdir ./vid\n",
    "!rm ./vid/*.*"
   ]
  },
  {
   "cell_type": "code",
   "execution_count": 3,
   "metadata": {
    "colab": {
     "base_uri": "https://localhost:8080/"
    },
    "id": "LyVGkCflscwt",
    "outputId": "9a40f85d-1a6d-4a4a-e683-bb68fa856594"
   },
   "outputs": [
    {
     "name": "stdout",
     "output_type": "stream",
     "text": [
      "pygame 1.9.6\n",
      "Hello from the pygame community. https://www.pygame.org/contribute.html\n"
     ]
    }
   ],
   "source": [
    "import sys\n",
    "# import pygame\n",
    "import numpy as np\n",
    "# import math\n",
    "# import base64\n",
    "# import io\n",
    "# import IPython\n",
    "import gym\n",
    "import gym_maze\n",
    "\n",
    "# from gym.wrappers import Monitor\n",
    "# from IPython import display\n",
    "from pyvirtualdisplay import Display\n",
    "from gym.wrappers.monitoring import video_recorder\n",
    "\n",
    "import matplotlib.pyplot as plt\n",
    "%matplotlib inline\n",
    "\n",
    "d = Display()\n",
    "d.start()\n",
    "\n",
    "# Recording filename\n",
    "video_name = \"./vid/Practical_2.mp4\"\n",
    "\n",
    "# Setup the environment for the maze\n",
    "env = gym.make(\"maze-sample-10x10-v0\")\n",
    "\n",
    "# Setup the video\n",
    "vid = None\n",
    "vid = video_recorder.VideoRecorder(env,video_name)\n",
    "\n",
    "# env = gym.wrappers.Monitor(env,'./vid',force=True)\n",
    "#current_state = env.reset()\n"
   ]
  },
  {
   "cell_type": "code",
   "execution_count": 4,
   "metadata": {
    "id": "F_o-F2DWtlMC"
   },
   "outputs": [],
   "source": [
    "import random\n",
    "\n",
    "def q_learning(discount_factor, epsilon):\n",
    "\n",
    "  current_state = env.reset()\n",
    "\n",
    "  states_dic = {} #dictionary to keep the states/coordinates of the Q table\n",
    "  count = 0\n",
    "  for i in range(10):\n",
    "    for j in range(10):\n",
    "      states_dic[i, j] = count\n",
    "      count+=1\n",
    "  \n",
    "  n_actions = env.action_space.n\n",
    "  \n",
    "  # Initialize the Q-table to 0\n",
    "  q_table = np.zeros((len(states_dic),n_actions))\n",
    "\n",
    "  # Number of episode we will run\n",
    "  n_episodes = 100\n",
    "\n",
    "  # Maximum of iteration per episode\n",
    "  max_iter_episode = 250\n",
    "\n",
    "  # Initialize the exploration probability to 1\n",
    "  exploration_proba = epsilon\n",
    "\n",
    "  # discount factor\n",
    "  gamma = discount_factor\n",
    "\n",
    "\n",
    "  # Learning rate\n",
    "  lr = 1/n_actions\n",
    "\n",
    "  total_epochs, total_rewards = 0, 0\n",
    "\n",
    "  rewards_per_episode = []\n",
    "\n",
    "\n",
    "  # Iterate over episodes\n",
    "  for e in range(n_episodes):\n",
    "      \n",
    "    # We are not done yet\n",
    "    done = False\n",
    "    \n",
    "    # Sum the rewards that the agent gets from the environment\n",
    "    total_episode_epochs, total_episode_rewards = 0, 0\n",
    "    \n",
    "    for i in range(max_iter_episode):\n",
    "      \n",
    "      env.unwrapped.render()\n",
    "      vid.capture_frame()\n",
    "\n",
    "      current_coordinate_x = int(current_state[0])\n",
    "      current_coordinate_y = int(current_state[1])\n",
    "      current_Q_table_coordinates = states_dic[current_coordinate_x, current_coordinate_y]\n",
    "\n",
    "      if random.uniform(0, 1) < exploration_proba:\n",
    "        action = env.action_space.sample() # Explore action space\n",
    "      else:\n",
    "        action = int(np.argmax(q_table[current_Q_table_coordinates])) # Exploit learned values\n",
    "\n",
    "        \n",
    "      next_state, reward, done, info = env.step(action) \n",
    "\n",
    "      next_coordinate_x = int(next_state[0]) #get coordinates to be used in dictionary\n",
    "      next_coordinate_y = int(next_state[1]) #get coordinates to be used in dictionary\n",
    "\n",
    "      \n",
    "      # Update our Q-table using the Q-learning iteration\n",
    "      next_Q_table_coordinates = states_dic[next_coordinate_x, next_coordinate_y]\n",
    "\n",
    "      # new_value = (1 - learning_rate) * current_value + learning_rate * (reward + gamma * next_max)\n",
    "      q_table[current_Q_table_coordinates, action] = (1-lr) * q_table[current_Q_table_coordinates, action] +lr*(reward + gamma * max(q_table[next_Q_table_coordinates,:]))\n",
    "\n",
    "  \n",
    "      total_episode_rewards = total_episode_rewards + reward\n",
    "      total_episode_epochs = total_episode_epochs + 1\n",
    "        \n",
    "      if done:\n",
    "        break\n",
    "      \n",
    "      current_state = next_state\n",
    "    \n",
    "    #Reset enviroment for next episode\n",
    "    current_state = env.reset()\n",
    "        \n",
    "      \n",
    "\n",
    "    total_epochs = total_epochs + total_episode_epochs\n",
    "    total_rewards = total_rewards + total_episode_rewards\n",
    "\n",
    "\n",
    "    #Show the total episode reward        \n",
    "    #print(\"Total episode reward:\", total_episode_rewards)\n",
    "    \n",
    "    rewards_per_episode.append(total_episode_rewards)\n",
    "\n",
    "    \n",
    "    cumulative_reward = np.cumsum(np.array(rewards_per_episode))    \n",
    "    for i in range(cumulative_reward.shape[0]):       \n",
    "        if i == 0:\n",
    "            continue        \n",
    "        #print(cumulative_reward[i] / (i + 1))\n",
    "        cumulative_reward[i] =  cumulative_reward[i] / (i + 1)\n",
    "    \n",
    "  print(f\"Results after {n_episodes} episodes:\")\n",
    "  print(f\"Average timesteps per episode: {total_epochs / n_episodes}\")\n",
    "  print(f\"Average rewards per episode: {total_rewards / n_episodes}\")\n",
    "\n",
    "  return cumulative_reward"
   ]
  },
  {
   "cell_type": "code",
   "execution_count": 5,
   "metadata": {
    "colab": {
     "base_uri": "https://localhost:8080/"
    },
    "id": "MIhFagfQwcKW",
    "outputId": "86ec4174-35cc-4d8d-a4a2-e5c71d278f17"
   },
   "outputs": [
    {
     "name": "stdout",
     "output_type": "stream",
     "text": [
      "Results after 100 episodes:\n",
      "Average timesteps per episode: 80.52\n",
      "Average rewards per episode: 0.8504099999999998\n",
      "\n",
      "Results after 100 episodes:\n",
      "Average timesteps per episode: 91.38\n",
      "Average rewards per episode: 0.8095200000000001\n",
      "\n",
      "Results after 100 episodes:\n",
      "Average timesteps per episode: 223.76\n",
      "Average rewards per episode: 0.09655999999999992\n",
      "\n"
     ]
    }
   ],
   "source": [
    "cumulative_reward_1 = q_learning(discount_factor = 0.5, epsilon = 0.0)\n",
    "print()\n",
    "\n",
    "cumulative_reward_2 = q_learning(discount_factor = 0.5, epsilon = 0.3)\n",
    "print()\n",
    "\n",
    "cumulative_reward_3 = q_learning(discount_factor = 0.5, epsilon = 0.9)\n",
    "print()\n"
   ]
  },
  {
   "cell_type": "code",
   "execution_count": 6,
   "metadata": {
    "colab": {
     "base_uri": "https://localhost:8080/",
     "height": 295
    },
    "id": "O_hB9ekNqPXe",
    "outputId": "0f09cad5-fd29-4539-d869-25aac0eb350a"
   },
   "outputs": [
    {
     "data": {
      "image/png": "[encoded data removed]",
      "text/plain": [
       "<Figure size 432x288 with 1 Axes>"
      ]
     },
     "metadata": {
      "needs_background": "light",
      "tags": []
     },
     "output_type": "display_data"
    }
   ],
   "source": [
    "plt.plot(cumulative_reward_1, label = \"epsilon = 0.0\")\n",
    "plt.plot(cumulative_reward_2, label = \"epsilon = 0.3\")\n",
    "plt.plot(cumulative_reward_3, label = \"epsilon = 0.9\")\n",
    "plt.xlabel('Episodes')\n",
    "plt.ylabel('Average Rewards')\n",
    "plt.title('Changes in exploration probability')\n",
    "plt.legend()\n",
    "plt.show()"
   ]
  },
  {
   "cell_type": "code",
   "execution_count": 7,
   "metadata": {
    "colab": {
     "base_uri": "https://localhost:8080/"
    },
    "id": "9DfbEPJ24P8T",
    "outputId": "4158a38a-9899-4ef7-a5b3-524de115a820"
   },
   "outputs": [
    {
     "name": "stdout",
     "output_type": "stream",
     "text": [
      "Results after 100 episodes:\n",
      "Average timesteps per episode: 235.17\n",
      "Average rewards per episode: -0.014950000000000083\n",
      "\n",
      "Results after 100 episodes:\n",
      "Average timesteps per episode: 97.25\n",
      "Average rewards per episode: 0.78363\n",
      "\n",
      "Results after 100 episodes:\n",
      "Average timesteps per episode: 70.79\n",
      "Average rewards per episode: 0.8701499999999995\n",
      "\n"
     ]
    }
   ],
   "source": [
    "cumulative_reward_3 = q_learning(discount_factor = 0.1, epsilon = 0.1)\n",
    "print()\n",
    "\n",
    "cumulative_reward_4 = q_learning(discount_factor = 0.3, epsilon = 0.1)\n",
    "print()\n",
    "\n",
    "cumulative_reward_5 = q_learning(discount_factor = 0.9, epsilon = 0.1)\n",
    "print()\n"
   ]
  },
  {
   "cell_type": "code",
   "execution_count": 9,
   "metadata": {
    "colab": {
     "base_uri": "https://localhost:8080/",
     "height": 295
    },
    "id": "S-xIMyVxvn4v",
    "outputId": "0d80c357-d03c-42f5-a3a4-1d727079f713"
   },
   "outputs": [
    {
     "data": {
      "image/png": "[encoded data removed]",
      "text/plain": [
       "<Figure size 432x288 with 1 Axes>"
      ]
     },
     "metadata": {
      "needs_background": "light",
      "tags": []
     },
     "output_type": "display_data"
    }
   ],
   "source": [
    "plt.plot(cumulative_reward_3, label = \"discount_factor = 0.1\")\n",
    "plt.plot(cumulative_reward_4, label = \"discount_factor = 0.3\")\n",
    "plt.plot(cumulative_reward_5, label = \"discount_factor = 0.9\")\n",
    "plt.xlabel('Episodes')\n",
    "plt.ylabel('Average Rewards')\n",
    "plt.title('Changes in discount factor')\n",
    "plt.legend()\n",
    "plt.show()"
   ]
  },
  {
   "cell_type": "markdown",
   "metadata": {
    "id": "bWDFe_u_6b-B"
   },
   "source": [
    "**Realistic Initialisation with discount factor = 0.7 and exploration_probability = 0.1**"
   ]
  },
  {
   "cell_type": "code",
   "execution_count": 11,
   "metadata": {
    "colab": {
     "base_uri": "https://localhost:8080/"
    },
    "id": "P7YpXhta6XuG",
    "outputId": "3d561474-fda8-47a5-b170-b0f7e4f9df40"
   },
   "outputs": [
    {
     "name": "stdout",
     "output_type": "stream",
     "text": [
      "Results after 100 episodes:\n",
      "Average timesteps per episode: 77.65\n",
      "Average rewards per episode: 0.8432699999999997\n"
     ]
    }
   ],
   "source": [
    "current_state = env.reset()\n",
    "\n",
    "states_dic = {} #dictionary to keep the states/coordinates of the Q table\n",
    "count = 0\n",
    "for i in range(10):\n",
    "  for j in range(10):\n",
    "    states_dic[i, j] = count\n",
    "    count+=1\n",
    "\n",
    "n_actions = env.action_space.n\n",
    "\n",
    "# Initialize the Q-table to 0\n",
    "q_table = np.zeros((len(states_dic),n_actions))\n",
    "\n",
    "# Number of episode we will run\n",
    "n_episodes = 100\n",
    "\n",
    "# Maximum of iteration per episode\n",
    "max_iter_episode = 250\n",
    "\n",
    "# Initialize the exploration probability to 1\n",
    "exploration_proba = 0.1\n",
    "\n",
    "# discount factor\n",
    "gamma = 0.7\n",
    "\n",
    "\n",
    "# Learning rate\n",
    "lr = 1/n_actions\n",
    "\n",
    "total_epochs, total_rewards = 0, 0\n",
    "\n",
    "rewards_per_episode_real = []\n",
    "\n",
    "\n",
    "# Iterate over episodes\n",
    "for e in range(n_episodes):\n",
    "    \n",
    "  # We are not done yet\n",
    "  done = False\n",
    "  \n",
    "  # Sum the rewards that the agent gets from the environment\n",
    "  total_episode_epochs, total_episode_rewards = 0, 0\n",
    "  \n",
    "  for i in range(max_iter_episode):\n",
    "    \n",
    "    env.unwrapped.render()\n",
    "    vid.capture_frame()\n",
    "\n",
    "    current_coordinate_x = int(current_state[0])\n",
    "    current_coordinate_y = int(current_state[1])\n",
    "    current_Q_table_coordinates = states_dic[current_coordinate_x, current_coordinate_y]\n",
    "\n",
    "    if random.uniform(0, 1) < exploration_proba:\n",
    "      action = env.action_space.sample() # Explore action space\n",
    "    else:\n",
    "      action = int(np.argmax(q_table[current_Q_table_coordinates])) # Exploit learned values\n",
    "\n",
    "      \n",
    "    next_state, reward, done, info = env.step(action) \n",
    "\n",
    "    next_coordinate_x = int(next_state[0]) #get coordinates to be used in dictionary\n",
    "    next_coordinate_y = int(next_state[1]) #get coordinates to be used in dictionary\n",
    "\n",
    "    \n",
    "    # Update our Q-table using the Q-learning iteration\n",
    "    next_Q_table_coordinates = states_dic[next_coordinate_x, next_coordinate_y]\n",
    "\n",
    "    # new_value = (1 - learning_rate) * current_value + learning_rate * (reward + gamma * next_max)\n",
    "    q_table[current_Q_table_coordinates, action] = (1-lr) * q_table[current_Q_table_coordinates, action] +lr*(reward + gamma * max(q_table[next_Q_table_coordinates,:]))\n",
    "\n",
    "\n",
    "    total_episode_rewards = total_episode_rewards + reward\n",
    "    total_episode_epochs = total_episode_epochs + 1\n",
    "      \n",
    "    if done:\n",
    "      break\n",
    "    \n",
    "    current_state = next_state\n",
    "  \n",
    "  #Reset enviroment for next episode\n",
    "  current_state = env.reset()\n",
    "      \n",
    "  total_epochs = total_epochs + total_episode_epochs\n",
    "  total_rewards = total_rewards + total_episode_rewards\n",
    "\n",
    "  #Show the total episode reward        \n",
    "  #print(\"Total episode reward:\", total_episode_rewards)\n",
    "  \n",
    "  rewards_per_episode_real.append(total_episode_rewards)\n",
    "\n",
    "  \n",
    "  cumulative_reward_real = np.cumsum(np.array(rewards_per_episode_real))    \n",
    "  for i in range(cumulative_reward_real.shape[0]):       \n",
    "      if i == 0:\n",
    "          continue        \n",
    "      #print(cumulative_reward_real[i] / (i + 1))\n",
    "      cumulative_reward_real[i] =  cumulative_reward_real[i] / (i + 1)\n",
    "  \n",
    "print(f\"Results after {n_episodes} episodes:\")\n",
    "print(f\"Average timesteps per episode: {total_epochs / n_episodes}\")\n",
    "print(f\"Average rewards per episode: {total_rewards / n_episodes}\")"
   ]
  },
  {
   "cell_type": "markdown",
   "metadata": {
    "id": "YTfRMVhZ6vr4"
   },
   "source": [
    "**Initialising the optimal initial value**"
   ]
  },
  {
   "cell_type": "code",
   "execution_count": 12,
   "metadata": {
    "colab": {
     "base_uri": "https://localhost:8080/"
    },
    "id": "XR0XlvEX8W8s",
    "outputId": "87009ad0-6212-4a9e-c42d-bea828f874cf"
   },
   "outputs": [
    {
     "name": "stdout",
     "output_type": "stream",
     "text": [
      "Mean value for each action: [0.00649401 0.01274665 0.00575839 0.02888208] \n",
      "\n",
      "Initialised values for each action: [0.05649401 0.06274665 0.05575839 0.07888208]\n"
     ]
    }
   ],
   "source": [
    "mean_each_actions = q_table.mean(axis=0)\n",
    "print(\"Mean value for each action: {}\".format(mean_each_actions), '\\n')\n",
    "\n",
    "# initialise the q-value for each action above the mean\n",
    "initialised_values = mean_each_actions + 0.05\n",
    "print(\"Initialised values for each action: {}\".format(initialised_values))"
   ]
  },
  {
   "cell_type": "code",
   "execution_count": 13,
   "metadata": {
    "id": "2Decp32SI-UG"
   },
   "outputs": [],
   "source": [
    "q_table_op = q_table = np.zeros((len(states_dic),n_actions))\n",
    "\n",
    "q_table_op = q_table_op + initialised_values\n",
    "\n",
    "#print(q_table_op)\n"
   ]
  },
  {
   "cell_type": "code",
   "execution_count": 15,
   "metadata": {
    "colab": {
     "base_uri": "https://localhost:8080/"
    },
    "id": "p_ILqCmMJQDB",
    "outputId": "5db643d9-900a-4c68-eb85-0a1a0e673454"
   },
   "outputs": [
    {
     "name": "stdout",
     "output_type": "stream",
     "text": [
      "Results after 100 episodes:\n",
      "Average timesteps per episode: 74.14\n",
      "Average rewards per episode: 0.9168499999999998\n"
     ]
    }
   ],
   "source": [
    "# Number of episode we will run\n",
    "n_episodes = 100\n",
    "\n",
    "# Maximum of iteration per episode\n",
    "max_iter_episode = 250\n",
    "\n",
    "# Initialize the exploration probability to 1\n",
    "exploration_proba = 0.1\n",
    "\n",
    "# discount factor\n",
    "gamma = 0.7\n",
    "\n",
    "\n",
    "# Learning rate\n",
    "lr = 1/n_actions\n",
    "\n",
    "total_epochs, total_rewards = 0, 0\n",
    "\n",
    "rewards_per_episode_op = []\n",
    "\n",
    "\n",
    "# Iterate over episodes\n",
    "for e in range(n_episodes):\n",
    "    \n",
    "  # We are not done yet\n",
    "  done = False\n",
    "  \n",
    "  # Sum the rewards that the agent gets from the environment\n",
    "  total_episode_epochs, total_episode_rewards = 0, 0\n",
    "  \n",
    "  for i in range(max_iter_episode):\n",
    "    \n",
    "    env.unwrapped.render()\n",
    "    vid.capture_frame()\n",
    "\n",
    "    current_coordinate_x = int(current_state[0])\n",
    "    current_coordinate_y = int(current_state[1])\n",
    "    current_Q_table_coordinates = states_dic[current_coordinate_x, current_coordinate_y]\n",
    "\n",
    "    if random.uniform(0, 1) < exploration_proba:\n",
    "      action = env.action_space.sample() # Explore action space\n",
    "    else:\n",
    "      action = int(np.argmax(q_table_op[current_Q_table_coordinates])) # Exploit learned values\n",
    "\n",
    "      \n",
    "    next_state, reward, done, info = env.step(action) \n",
    "\n",
    "    next_coordinate_x = int(next_state[0]) #get coordinates to be used in dictionary\n",
    "    next_coordinate_y = int(next_state[1]) #get coordinates to be used in dictionary\n",
    "\n",
    "    \n",
    "    # Update our Q-table using the Q-learning iteration\n",
    "    next_Q_table_coordinates = states_dic[next_coordinate_x, next_coordinate_y]\n",
    "\n",
    "    # new_value = (1 - learning_rate) * current_value + learning_rate * (reward + gamma * next_max)\n",
    "    q_table_op[current_Q_table_coordinates, action] = (1-lr) * q_table_op[current_Q_table_coordinates, action] +lr*(reward + gamma * max(q_table_op[next_Q_table_coordinates,:]))\n",
    "\n",
    "\n",
    "    total_episode_rewards = total_episode_rewards + reward\n",
    "    total_episode_epochs = total_episode_epochs + 1\n",
    "      \n",
    "    if done:\n",
    "      break\n",
    "    \n",
    "    current_state = next_state\n",
    "  \n",
    "  #Reset enviroment for next episode\n",
    "  current_state = env.reset()\n",
    "      \n",
    "  total_epochs = total_epochs + total_episode_epochs\n",
    "  total_rewards = total_rewards + total_episode_rewards\n",
    "\n",
    "  #Show the total episode reward        \n",
    "  #print(\"Total episode reward:\", total_episode_rewards)\n",
    "  \n",
    "  rewards_per_episode_op.append(total_episode_rewards)\n",
    "\n",
    "  cumulative_reward_op = np.cumsum(np.array(rewards_per_episode_op))    \n",
    "  for i in range(cumulative_reward_op.shape[0]):       \n",
    "      if i == 0:\n",
    "          continue        \n",
    "      #print(cumulative_reward_op[i] / (i + 1))\n",
    "      cumulative_reward_op[i] =  cumulative_reward_op[i] / (i + 1)\n",
    "  \n",
    "print(f\"Results after {n_episodes} episodes:\")\n",
    "print(f\"Average timesteps per episode: {total_epochs / n_episodes}\")\n",
    "print(f\"Average rewards per episode: {total_rewards / n_episodes}\")"
   ]
  },
  {
   "cell_type": "code",
   "execution_count": 16,
   "metadata": {
    "colab": {
     "base_uri": "https://localhost:8080/",
     "height": 295
    },
    "id": "NZr8wlADyVvu",
    "outputId": "e3ea3d9b-f27c-431b-b8ea-a4bb6ea3b94f"
   },
   "outputs": [
    {
     "data": {
      "image/png": "[encoded data removed]",
      "text/plain": [
       "<Figure size 432x288 with 1 Axes>"
      ]
     },
     "metadata": {
      "needs_background": "light",
      "tags": []
     },
     "output_type": "display_data"
    }
   ],
   "source": [
    "plt.plot(cumulative_reward_real, label = \"Realistic Initialisation\")\n",
    "plt.plot(cumulative_reward_op, label = \"Optimistic Initialisation\")\n",
    "plt.xlabel('Episodes')\n",
    "plt.ylabel('Average Rewards')\n",
    "plt.title('Realistic vs Optimistic')\n",
    "plt.legend()\n",
    "plt.show()"
   ]
  }
 ],
 "metadata": {
  "accelerator": "GPU",
  "colab": {
   "name": "Task2.2C.ipynb",
   "provenance": []
  },
  "kernelspec": {
   "display_name": "Python 3",
   "language": "python",
   "name": "python3"
  },
  "language_info": {
   "codemirror_mode": {
    "name": "ipython",
    "version": 3
   },
   "file_extension": ".py",
   "mimetype": "text/x-python",
   "name": "python",
   "nbconvert_exporter": "python",
   "pygments_lexer": "ipython3",
   "version": "3.8.8"
  }
 },
 "nbformat": 4,
 "nbformat_minor": 1
}
