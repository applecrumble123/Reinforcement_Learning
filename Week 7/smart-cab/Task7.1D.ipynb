{
 "cells": [
  {
   "cell_type": "code",
   "execution_count": 1,
   "metadata": {},
   "outputs": [],
   "source": [
    "import gym\n",
    "from gym.envs.registration import register\n",
    "\n",
    "register(\n",
    "    id='smart_cab-v2',\n",
    "    entry_point='smart_cab.envs:TaxiEnv')"
   ]
  },
  {
   "cell_type": "code",
   "execution_count": 2,
   "metadata": {},
   "outputs": [
    {
     "name": "stdout",
     "output_type": "stream",
     "text": [
      "+---------+\n",
      "|A: | : :B|\n",
      "|\u001b[43m \u001b[0m: | : : |\n",
      "| : : : : |\n",
      "| | : | : |\n",
      "|\u001b[34;1mC\u001b[0m| : |\u001b[35mD\u001b[0m: |\n",
      "+---------+\n",
      "\n"
     ]
    }
   ],
   "source": [
    "import gym\n",
    "\n",
    "# core gym interface is env\n",
    "env = gym.make('smart_cab:smart_cab-v2')\n",
    "\n",
    "env.render()"
   ]
  },
  {
   "cell_type": "code",
   "execution_count": 3,
   "metadata": {},
   "outputs": [
    {
     "name": "stdout",
     "output_type": "stream",
     "text": [
      "+---------+\n",
      "|\u001b[34;1mA\u001b[0m: | : :\u001b[35mB\u001b[0m|\n",
      "| : | : : |\n",
      "| : : : : |\n",
      "|\u001b[43m \u001b[0m| : | : |\n",
      "|C| : |D: |\n",
      "+---------+\n",
      "\n",
      "Action Space Discrete(6)\n",
      "State Space Discrete(500)\n",
      "\n",
      "The filled square represents the taxi, which is yellow without a passenger and green with a passenger.\n",
      "\n",
      "The pipe (\"|\") represents a wall which the taxi cannot cross.\n",
      "\n",
      "A, B, C, D are the possible pickup and destination locations. \n",
      "\n",
      "The blue letter represents the current passenger pick-up location.\n",
      "\n",
      "The pink letter is the current drop-off location.\n",
      "\n"
     ]
    }
   ],
   "source": [
    "# env.reset(): Resets the environment and returns a random initial state.\n",
    "env.reset() \n",
    "\n",
    "# env.render(): Renders one frame of the environment (helpful in visualizing the environment)\n",
    "env.render()\n",
    "\n",
    "print(\"Action Space {}\".format(env.action_space))\n",
    "print(\"State Space {}\".format(env.observation_space))\n",
    "\n",
    "text = \"\"\"\n",
    "The filled square represents the taxi, which is yellow without a passenger and green with a passenger.\n",
    "\n",
    "The pipe (\"|\") represents a wall which the taxi cannot cross.\n",
    "\n",
    "A, B, C, D are the possible pickup and destination locations. \n",
    "\n",
    "The blue letter represents the current passenger pick-up location.\n",
    "\n",
    "The pink letter is the current drop-off location.\n",
    "\"\"\"\n",
    "\n",
    "print(text)\n"
   ]
  },
  {
   "cell_type": "code",
   "execution_count": 4,
   "metadata": {},
   "outputs": [
    {
     "name": "stdout",
     "output_type": "stream",
     "text": [
      "State: 31\n",
      "+---------+\n",
      "|A:\u001b[43m \u001b[0m| : :B|\n",
      "| : | : : |\n",
      "| : : : : |\n",
      "| | : | : |\n",
      "|\u001b[34;1mC\u001b[0m| : |\u001b[35mD\u001b[0m: |\n",
      "+---------+\n",
      "\n"
     ]
    }
   ],
   "source": [
    "# (taxi row, taxi column, passenger location index, drop-off location index)\n",
    "# Pick-up/Drop-off --> A - 0, B - 1, C - 2, D - 3, E - 4, F - 5\n",
    "# Manually set the state and  give it to the environment\n",
    "state = env.encode(0, 1, 2, 3) \n",
    "print(\"State:\", state)\n",
    "\n",
    "# A number is generated corresponding to a state between 0 and 4200, which turns out to be 57.\n",
    "\n",
    "env.s = state\n",
    "env.render()"
   ]
  },
  {
   "cell_type": "code",
   "execution_count": 5,
   "metadata": {},
   "outputs": [
    {
     "name": "stdout",
     "output_type": "stream",
     "text": [
      "\n",
      "Output is default reward values assigned to each state.\n",
      "\n",
      "This dictionary has the structure {action: [(probability, nextstate, reward, done)]}.\n",
      "\n",
      "The 0-5 corresponds to the actions (south, north, east, west, pickup, dropoff) the taxi can perform at our current state in the illustration.\n",
      "\n",
      "Probability of 1.0 for taking an action to reach a state and 0.0 if the action nvr reach the state\n",
      "\n",
      "The nextstate is the state we would be in if we take the action at this index of the dict\n",
      "\n",
      "All the movement actions have a -1 reward, -3 for a wrong pickup and -10 for a wrong dropoff.\n",
      "\n",
      "If we are in a state where the taxi has a passenger and is on top of the right destination, we would see a reward of 20 at the dropoff action (5)\n",
      "\n",
      "\"\"done\"\" is used to tell us when we have successfully dropped off a passenger in the right location. Each successfull dropoff is the end of an episode\n",
      "\n",
      "If the taxi hits the wall, it will accumulate a -1 as well and this will affect a the long-term reward.\n",
      "\n"
     ]
    },
    {
     "data": {
      "text/plain": [
       "{0: [(1.0, 157, -1, False)],\n",
       " 1: [(1.0, 57, -1, False)],\n",
       " 2: [(1.0, 77, -1, False)],\n",
       " 3: [(1.0, 57, -1, False)],\n",
       " 4: [(1.0, 57, -10, False)],\n",
       " 5: [(1.0, 57, -10, False)]}"
      ]
     },
     "execution_count": 5,
     "metadata": {},
     "output_type": "execute_result"
    }
   ],
   "source": [
    "\n",
    "# Reward Table\n",
    "\n",
    "text = \"\"\"\n",
    "Output is default reward values assigned to each state.\n",
    "\n",
    "This dictionary has the structure {action: [(probability, nextstate, reward, done)]}.\n",
    "\n",
    "The 0-5 corresponds to the actions (south, north, east, west, pickup, dropoff) the taxi can perform at our current state in the illustration.\n",
    "\n",
    "Probability of 1.0 for taking an action to reach a state and 0.0 if the action nvr reach the state\n",
    "\n",
    "The nextstate is the state we would be in if we take the action at this index of the dict\n",
    "\n",
    "All the movement actions have a -1 reward, -3 for a wrong pickup and -10 for a wrong dropoff.\n",
    "\n",
    "If we are in a state where the taxi has a passenger and is on top of the right destination, we would see a reward of 20 at the dropoff action (5)\n",
    "\n",
    "\"\"done\"\" is used to tell us when we have successfully dropped off a passenger in the right location. Each successfull dropoff is the end of an episode\n",
    "\n",
    "If the taxi hits the wall, it will accumulate a -1 as well and this will affect a the long-term reward.\n",
    "\"\"\"\n",
    "\n",
    "print(text)\n",
    "\n",
    "env.P[57]"
   ]
  },
  {
   "cell_type": "code",
   "execution_count": 6,
   "metadata": {},
   "outputs": [
    {
     "name": "stdout",
     "output_type": "stream",
     "text": [
      "131 -1 False {'prob': 1.0}\n"
     ]
    }
   ],
   "source": [
    "next_state, reward, done, info = env.step(0)\n",
    "print(next_state, reward, done, info )"
   ]
  },
  {
   "cell_type": "markdown",
   "metadata": {},
   "source": [
    "# Semi Gradient SARSA"
   ]
  },
  {
   "cell_type": "code",
   "execution_count": 7,
   "metadata": {},
   "outputs": [],
   "source": [
    "import numpy as np\n"
   ]
  },
  {
   "cell_type": "code",
   "execution_count": 8,
   "metadata": {},
   "outputs": [],
   "source": [
    "def value_func(s, a):\n",
    "    return np.zeros([s, a])"
   ]
  },
  {
   "cell_type": "code",
   "execution_count": 9,
   "metadata": {},
   "outputs": [],
   "source": [
    "def epsilon_greedy(value_function, epsilon, n_actions, s):\n",
    "    \"\"\"\n",
    "    @param value_function, state_action -> value\n",
    "    @param epsilon for exploration\n",
    "    @param s number of states\n",
    "    \n",
    "    \"\"\"\n",
    "    if np.random.rand() < epsilon:\n",
    "        \n",
    "        action = np.argmax(value_function[s, :])\n",
    "    \n",
    "    else:\n",
    "        \n",
    "        action = np.random.randint(0, n_actions)\n",
    "        \n",
    "    return action"
   ]
  },
  {
   "cell_type": "code",
   "execution_count": 10,
   "metadata": {},
   "outputs": [],
   "source": [
    "# compute gradient"
   ]
  },
  {
   "cell_type": "code",
   "execution_count": 11,
   "metadata": {},
   "outputs": [],
   "source": [
    "def gradient():\n",
    "    x = 3.0\n",
    "    y = 4.0\n",
    "    xy = 12.0\n",
    "    x_2 = 9.0\n",
    "    y_2 = 16.0\n",
    "    bias = 1\n",
    "    \n",
    "    return np.array([x, y, xy, x_2, y_2, 1])\n"
   ]
  },
  {
   "cell_type": "code",
   "execution_count": 12,
   "metadata": {},
   "outputs": [],
   "source": [
    "def semi_gradient_sarsa(gamma, epsilon, episodes):\n",
    "    \"\"\"\n",
    "    @param alpha learning rate\n",
    "    @param gamma decay factor\n",
    "    @param epsilon for exploration\n",
    "    @param max_steps for max step in each episode\n",
    "    @param n_tests number of test episodes\n",
    "    \"\"\"\n",
    "    \n",
    "    # get num of states and action in the env\n",
    "    n_states, n_actions = env.observation_space.n, env.action_space.n\n",
    "    \n",
    "    # value function\n",
    "    value_function = value_func(n_states, n_actions)\n",
    "    \n",
    "    total_reward = 0\n",
    "    \n",
    "    reward_per_ep_list = []\n",
    "    \n",
    "    ALPHA = 0.1\n",
    "    \n",
    "    #w = np.zeros(env.nS)\n",
    "    \n",
    "    w = 0.0\n",
    "    \n",
    "    \n",
    "    for episode in range (episodes):\n",
    "\n",
    "        \n",
    "        state = env.reset()\n",
    "        \n",
    "        action = epsilon_greedy(value_function, epsilon, n_actions, state)\n",
    "        \n",
    "        #print(w)\n",
    "        \n",
    "        grad = gradient()\n",
    "        \n",
    "        epoch_per_ep, reward_per_episode, = 0, 0\n",
    "        \n",
    "        done = False\n",
    "        \n",
    "        \n",
    "        while True:\n",
    "            \n",
    "            next_state, reward, done, info = env.step(action)\n",
    "            reward_per_episode = reward_per_episode + reward\n",
    "            \n",
    "            if done == True:\n",
    "                \n",
    "                w = w + ALPHA * (reward - (np.multiply(w,value_function[state, action]))) * np.multiply(grad,w)\n",
    "                \n",
    "                reward_per_ep_list.append(reward_per_episode)\n",
    "                \n",
    "                break\n",
    "            \n",
    "            \n",
    "            else:\n",
    "                next_action = epsilon_greedy(value_function, epsilon, n_actions, next_state)\n",
    "                \n",
    "                w = w + ALPHA * (reward + (gamma * (np.multiply(w,value_function[next_state, next_action])) - (np.multiply(w,value_function[state, action])))) * np.multiply(grad,w)\n",
    "                \n",
    "                state = next_state\n",
    "                action = next_action            \n",
    "            \n",
    "    \n",
    "    return reward_per_ep_list"
   ]
  },
  {
   "cell_type": "code",
   "execution_count": 13,
   "metadata": {},
   "outputs": [],
   "source": [
    "reward_per_ep_list = semi_gradient_sarsa(gamma = 0.9, epsilon = 0.1, episodes = 100)"
   ]
  },
  {
   "cell_type": "code",
   "execution_count": 14,
   "metadata": {},
   "outputs": [
    {
     "name": "stdout",
     "output_type": "stream",
     "text": [
      "Average reward for 100 episodes for Semi Gradient SARSA is -14131.73.\n"
     ]
    }
   ],
   "source": [
    "print(\"Average reward for {} episodes for Semi Gradient SARSA is {}.\".format(100, sum(reward_per_ep_list)/len(reward_per_ep_list)))"
   ]
  },
  {
   "cell_type": "code",
   "execution_count": 15,
   "metadata": {},
   "outputs": [
    {
     "data": {
      "image/png": "[encoded data removed]",
      "text/plain": [
       "<Figure size 432x288 with 1 Axes>"
      ]
     },
     "metadata": {
      "needs_background": "light"
     },
     "output_type": "display_data"
    }
   ],
   "source": [
    "import matplotlib.pyplot as plt\n",
    "from textwrap import wrap\n",
    "\n",
    "y = reward_per_ep_list\n",
    "x = [i for i in range(1,101)]\n",
    "\n",
    "title = 'Reward Distribution for Semi Gradient SARSA per episode'\n",
    "plt.title('\\n'.join(wrap(title,40)), fontsize=15)\n",
    "plt.xlabel('Episodes', fontsize=12)\n",
    "plt.ylabel('Rewards', fontsize=12)\n",
    "plt.plot(x, y)\n",
    "plt.show()"
   ]
  },
  {
   "cell_type": "markdown",
   "metadata": {},
   "source": [
    "# Sarsa lambda with Linear Approximation"
   ]
  },
  {
   "cell_type": "code",
   "execution_count": 16,
   "metadata": {},
   "outputs": [
    {
     "data": {
      "text/plain": [
       "44"
      ]
     },
     "execution_count": 16,
     "metadata": {},
     "output_type": "execute_result"
    }
   ],
   "source": [
    "env.reset()"
   ]
  },
  {
   "cell_type": "code",
   "execution_count": 17,
   "metadata": {},
   "outputs": [],
   "source": [
    "number_of_states = env.nS"
   ]
  },
  {
   "cell_type": "code",
   "execution_count": 18,
   "metadata": {},
   "outputs": [
    {
     "data": {
      "text/plain": [
       "500"
      ]
     },
     "execution_count": 18,
     "metadata": {},
     "output_type": "execute_result"
    }
   ],
   "source": [
    "number_of_states"
   ]
  },
  {
   "cell_type": "code",
   "execution_count": 19,
   "metadata": {},
   "outputs": [],
   "source": [
    "import itertools\n",
    "def _get_order_array(order,state_dimension,start = 0):\n",
    "    arr = []\n",
    "    for i in itertools.product(np.arange(start,order + 1),repeat=(state_dimension)):\n",
    "        arr.append(np.array(i))\n",
    "    return np.array(arr)"
   ]
  },
  {
   "cell_type": "code",
   "execution_count": 20,
   "metadata": {},
   "outputs": [],
   "source": [
    "order_list = _get_order_array(order = 1, state_dimension = 10)  # used when calculating"
   ]
  },
  {
   "cell_type": "code",
   "execution_count": 21,
   "metadata": {},
   "outputs": [
    {
     "data": {
      "text/plain": [
       "1024"
      ]
     },
     "execution_count": 21,
     "metadata": {},
     "output_type": "execute_result"
    }
   ],
   "source": [
    "len(order_list)"
   ]
  },
  {
   "cell_type": "code",
   "execution_count": 22,
   "metadata": {},
   "outputs": [],
   "source": [
    "def fourier_basis(state, order_list):\n",
    "    '''\n",
    "    Convert state to order-th Fourier basis \n",
    "    '''\n",
    "\n",
    "    state_new = np.array(state).reshape(1,-1)\n",
    "    \n",
    "    #do a row by row dot product with the state. i = length of order list, j = state dimensions, k = 1\n",
    "    scalars = np.einsum('ij, kj->ik', order_list, state_new) \n",
    "    assert scalars.shape == (len(order_list),1)\n",
    "    phi = np.cos(np.pi*scalars)\n",
    "    return phi"
   ]
  },
  {
   "cell_type": "code",
   "execution_count": 24,
   "metadata": {},
   "outputs": [],
   "source": [
    "def reset(weight_init, num_actions, order_list):\n",
    "       \n",
    "    w = weight_init * np.random.randn(num_actions, len(order_list))\n",
    "    eligibility = np.zeros( (num_actions, len(order_list) ) )\n",
    "    \n",
    "    return w, eligibility"
   ]
  },
  {
   "cell_type": "code",
   "execution_count": 25,
   "metadata": {},
   "outputs": [],
   "source": [
    "def get_weight(num_actions, order_list):\n",
    "    \n",
    "    w = 0\n",
    "    w = w * np.random.randn(num_actions, len(order_list))\n",
    "    \n",
    "    return w"
   ]
  },
  {
   "cell_type": "code",
   "execution_count": 26,
   "metadata": {},
   "outputs": [],
   "source": [
    "def get_eligibility(num_actions, order_list):\n",
    "    \n",
    "    elgibility = np.zeros((num_actions, len(order_list)))\n",
    "    \n",
    "    return elgibility\n",
    "    "
   ]
  },
  {
   "cell_type": "code",
   "execution_count": 27,
   "metadata": {},
   "outputs": [],
   "source": [
    "def action_value_approximate(w, state, action=None):\n",
    "        '''\n",
    "        Computes Q(s,a) using Function Approximation\n",
    "        Returns one approximation for each action if action is None\n",
    "        If there is an action, returns the Q(s,a) for that action\n",
    "        '''\n",
    "        phi = fourier_basis(state, order_list)\n",
    "        Q_s = np.dot(w, phi)\n",
    "        #assert Q_s.shape == (num_actions, 1)\n",
    "        if action == None:\n",
    "            return Q_s\n",
    "        else:\n",
    "            return Q_s[action]"
   ]
  },
  {
   "cell_type": "code",
   "execution_count": 28,
   "metadata": {},
   "outputs": [],
   "source": [
    "def get_TD_error(w, gamma, state, action, r, state_prime, action_prime, done):\n",
    "        \n",
    "    if done:\n",
    "        pred = 0\n",
    "    else:\n",
    "        \n",
    "        pred = action_value_approximate(state_prime, action_prime)\n",
    "        \n",
    "        r + gamma * (pred) - action_value_approximate(w, state, action)\n",
    "\n",
    "    return r + gamma * (pred) - action_value_approximate(w, state, action)"
   ]
  },
  {
   "cell_type": "code",
   "execution_count": 29,
   "metadata": {},
   "outputs": [],
   "source": [
    "def update_elgibility(gamma, lmbda, num_actions, order_list, state, action, eligibility):\n",
    "    \n",
    "    b = np.zeros((num_actions, len(order_list)))\n",
    "    \n",
    "    phi = fourier_basis(state, order_list)\n",
    "    \n",
    "    b[action] = phi.reshape(1, -1)\n",
    "    \n",
    "    eligibility = gamma * lmbda * eligibility + b\n",
    "    \n",
    "    #return eligibility\n",
    "\n",
    "        "
   ]
  },
  {
   "cell_type": "code",
   "execution_count": 30,
   "metadata": {},
   "outputs": [],
   "source": [
    "def update(w, state, action, td_error, alpha, eligibility):\n",
    "    \n",
    "    td_error = td_error.reshape(1, td_error.shape[0])\n",
    "    a = alpha * (td_error) * eligibility\n",
    "    w = w + a\n",
    "    \n",
    "    #return w\n",
    "        "
   ]
  },
  {
   "cell_type": "code",
   "execution_count": 31,
   "metadata": {},
   "outputs": [],
   "source": [
    "def epsilon_greedy_action(w, epsilon, num_actions, state):\n",
    "    rnd = np.random.rand()\n",
    "    if rnd < epsilon:\n",
    "        action = np.random.choice(range(num_actions))\n",
    "    \n",
    "    else:  # approximate from phi*weights\n",
    "        row = action_value_approximate(w, state)\n",
    "            \n",
    "        # select max from row, break ties by randomly selecting one of the actions\n",
    "        action = np.random.choice(np.flatnonzero(row == np.max(row)))  \n",
    "                    \n",
    "    return action"
   ]
  },
  {
   "cell_type": "code",
   "execution_count": 32,
   "metadata": {},
   "outputs": [],
   "source": [
    "episodes = 100\n",
    "\n",
    "num_actions = env.action_space.n\n",
    "\n",
    "gamma = 0.9\n",
    "lmbda = 0.7\n",
    "epsilon = 0.1\n",
    "alpha = 0.1\n",
    "\n",
    "reward_list =[]\n",
    "\n",
    "weight_init = 0\n",
    "\n",
    "w, eligibility = reset(weight_init, num_actions, order_list)\n",
    "\n",
    "for i in range(episodes):\n",
    "    \n",
    "    state = env.reset()\n",
    "    \n",
    "    action = epsilon_greedy_action(w, epsilon = epsilon, num_actions = num_actions, state = state)\n",
    "    \n",
    "    rewards_per_ep = 0\n",
    "    \n",
    "    steps = 0\n",
    "    \n",
    "    done = False\n",
    "    \n",
    "    while True:\n",
    "        \n",
    "        next_state, reward, done, info = env.step(action)\n",
    "        \n",
    "        rewards_per_ep = rewards_per_ep + reward\n",
    "        \n",
    "        update_elgibility(gamma, lmbda, num_actions, order_list, state, action, eligibility)\n",
    "        \n",
    "        next_action = epsilon_greedy_action(w, epsilon = epsilon, num_actions = num_actions, state = next_state)\n",
    "        \n",
    "        td_error = get_TD_error(w, gamma, state, action, reward, next_state, next_action, done)\n",
    "        \n",
    "        update(w, state, action, td_error, alpha, eligibility)\n",
    "        \n",
    "        #if steps >= 5000:\n",
    "            #done = True\n",
    "        \n",
    "        if done == True:\n",
    "            \n",
    "            reward_list.append(rewards_per_ep)\n",
    "            \n",
    "            break\n",
    "            \n",
    "        \n",
    "        else:\n",
    "            state = next_state\n",
    "            action = next_action\n",
    "               \n",
    "            steps = steps + 1\n",
    "        \n",
    "    #print(steps)\n",
    "       "
   ]
  },
  {
   "cell_type": "code",
   "execution_count": 33,
   "metadata": {},
   "outputs": [],
   "source": [
    "#reward_list"
   ]
  },
  {
   "cell_type": "code",
   "execution_count": 34,
   "metadata": {},
   "outputs": [
    {
     "name": "stdout",
     "output_type": "stream",
     "text": [
      "Average reward for 100 episodes for SARSA lambda with Linear Approximation is -8376.58.\n"
     ]
    }
   ],
   "source": [
    "print(\"Average reward for {} episodes for SARSA lambda with Linear Approximation is {}.\".format(100, sum(reward_list)/len(reward_list)))"
   ]
  },
  {
   "cell_type": "code",
   "execution_count": 35,
   "metadata": {},
   "outputs": [
    {
     "data": {
      "image/png": "[encoded data removed]",
      "text/plain": [
       "<Figure size 432x288 with 1 Axes>"
      ]
     },
     "metadata": {
      "needs_background": "light"
     },
     "output_type": "display_data"
    }
   ],
   "source": [
    "\n",
    "y = reward_list\n",
    "x = [i for i in range(1,101)]\n",
    "\n",
    "title = 'Reward Distribution for SARSA lambda with Linear Approximation per episode'\n",
    "plt.title('\\n'.join(wrap(title,40)), fontsize=15)\n",
    "plt.xlabel('Episodes', fontsize=12)\n",
    "plt.ylabel('Rewards', fontsize=12)\n",
    "plt.plot(x, y)\n",
    "plt.show()"
   ]
  }
 ],
 "metadata": {
  "kernelspec": {
   "display_name": "Python 3",
   "language": "python",
   "name": "python3"
  },
  "language_info": {
   "codemirror_mode": {
    "name": "ipython",
    "version": 3
   },
   "file_extension": ".py",
   "mimetype": "text/x-python",
   "name": "python",
   "nbconvert_exporter": "python",
   "pygments_lexer": "ipython3",
   "version": "3.8.8"
  }
 },
 "nbformat": 4,
 "nbformat_minor": 4
}
